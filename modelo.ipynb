import json
import re
import pandas as pd
import numpy as np

from sklearn.feature_extraction.text import CountVectorizer, TfidfTransformer
from sklearn.naive_bayes import MultinomialNB
from sklearn.pipeline import make_pipeline
from sklearn.model_selection import train_test_split
from sklearn.metrics import classification_report

from transformers import BertTokenizer, BertForSequenceClassification
from transformers import pipeline

import nltk
from nltk.corpus import stopwords
from nltk.tokenize import word_tokenize
from gensim import corpora, models

import matplotlib.pyplot as plt

import torch

import unicodedata

def carregar_dados(caminho_arquivo_json):
    with open(caminho_arquivo_json, 'r', encoding='utf-8') as arquivo:
        dados = json.load(arquivo)
    return dados


def limpar_texto(texto):
    texto_normalizado = unicodedata.normalize('NFKD', texto)
    texto_sem_acento = ''.join([c for c in texto_normalizado if not unicodedata.combining(c)])
    texto_limpo = re.sub(r'[^a-zA-Z0-9\s:;]', '', texto_sem_acento)
    texto_limpo = texto_limpo.lower()
    return texto_limpo

caminho_arquivo_json = "C:/Users/RODRIGO.MAGALHAES/Downloads/Projetos Estudo/Projeto ML/Analise evolucao/tabela_evolucao_nova.json"
dados = carregar_dados(caminho_arquivo_json)

print("Tipo de dados carregados:", type(dados))
print("Exemplo de dados carregados:", dados[:2]) 

dados_df = pd.DataFrame(dados)

dados_df['EVOLUCAO'] = dados_df['EVOLUCAO'].apply(limpar_texto)
dados_df['DS_CID'] = dados_df['DS_CID'].apply(limpar_texto)
dados_df['CIRURGIA'] = dados_df['CIRURGIA'].apply(limpar_texto)

# Substituir strings vazias por NaN
dados_df.replace('', np.nan, inplace=True)

print("Tipo após conversão:", type(dados_df))
print("Estrutura do DataFrame:")

dados_df
